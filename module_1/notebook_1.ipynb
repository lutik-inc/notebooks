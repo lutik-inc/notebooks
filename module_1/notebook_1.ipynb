{
 "cells": [
  {
   "cell_type": "code",
   "execution_count": null,
   "metadata": {},
   "outputs": [],
   "source": [
    "from matplotlib import pyplot as plt\n",
    "import numpy as np\n",
    "%matplotlib inline"
   ]
  },
  {
   "cell_type": "markdown",
   "metadata": {},
   "source": [
    "### Data\n",
    "Here is the data from series of experiments that records length (**x**) of a pendulum and measures its period of oscillation (**y**). \n",
    "\n",
    "Your goal is to find the best forumla that estimates **y** given **x**."
   ]
  },
  {
   "cell_type": "code",
   "execution_count": null,
   "metadata": {},
   "outputs": [],
   "source": [
    "x = np.array([ 2.96849634,  3.51072463,  4.18264502,  5.08456146,  5.46309399,\n",
    "        8.189419  ,  8.67703959, 13.42015674, 17.88116024, 18.91120133])\n",
    "\n",
    "y = np.array([3.57900701, 3.94004226, 4.18782527, 4.52756046, 4.79607925,\n",
    "       5.83386404, 5.99267759, 7.3575356 , 8.52012944, 8.8484958 ])"
   ]
  },
  {
   "cell_type": "code",
   "execution_count": null,
   "metadata": {},
   "outputs": [],
   "source": [
    "plt.figure(figsize=(7, 4), dpi=100)\n",
    "plt.scatter(x, y, c='black')\n",
    "plt.grid(True)\n",
    "plt.xlabel('x')\n",
    "plt.ylabel('y')\n",
    "plt.show()"
   ]
  },
  {
   "cell_type": "markdown",
   "metadata": {},
   "source": [
    "### This function defines your formula\n",
    "It takes vector of **x** and set of argumetns and produces vector of preductions **y_pred**\n",
    "Take a moment to appreciate the vector math that is supported by `numpy` package:\n",
    "\n",
    "instead of writing a loop like this:\n",
    "```\n",
    "for x in X:\n",
    "  y.append(a*x + b)\n",
    "```\n",
    "\n",
    "it allows to write the same operations much more concisely"
   ]
  },
  {
   "cell_type": "code",
   "execution_count": null,
   "metadata": {},
   "outputs": [],
   "source": [
    "def my_law(X, a, b, c):\n",
    "    return a*X + b*X**0.5 + c"
   ]
  },
  {
   "cell_type": "code",
   "execution_count": null,
   "metadata": {},
   "outputs": [],
   "source": [
    "def mean_squared_error(y, y_pred):\n",
    "    \"\"\" \n",
    "    estimation of mean squared error between two vectors\n",
    "    \"\"\"\n",
    "    return np.mean((y - y_pred)**2)"
   ]
  },
  {
   "cell_type": "code",
   "execution_count": null,
   "metadata": {},
   "outputs": [],
   "source": [
    "# TODO: find the coefficients a, b and c that minimize the MSE (make it less than 0.1)\n",
    "my_params = [1, 1, 1]"
   ]
  },
  {
   "cell_type": "code",
   "execution_count": null,
   "metadata": {},
   "outputs": [],
   "source": [
    "y_pred = my_law(x, *my_params) "
   ]
  },
  {
   "cell_type": "code",
   "execution_count": null,
   "metadata": {},
   "outputs": [],
   "source": [
    "mse = mean_squared_error(y, y_pred)\n",
    "print('Mean squared error = {:.3f}'.format(mse))"
   ]
  },
  {
   "cell_type": "markdown",
   "metadata": {},
   "source": [
    "### See how close does it get"
   ]
  },
  {
   "cell_type": "code",
   "execution_count": null,
   "metadata": {},
   "outputs": [],
   "source": [
    "def plot_results(x, y, y_pred, params):\n",
    "    mse = mean_squared_error(y, y_pred)\n",
    "    plt.figure(figsize=(7, 4), dpi=100)\n",
    "    plt.scatter(x, y, c='black', label=\"data\")\n",
    "    plt.plot(x, y_pred, label=\"my prediction\")\n",
    "    plt.plot(x, y_pred,'bo')\n",
    "    plt.grid(True)\n",
    "    plt.xlabel('x')\n",
    "    plt.ylabel('y')\n",
    "    plt.legend()\n",
    "    plt.title(\"Params: {:.2f}, {:.2f}, {:.2f}, prediction MSE = {:.3f}\".format(*params, mse))\n",
    "    plt.show()"
   ]
  },
  {
   "cell_type": "code",
   "execution_count": null,
   "metadata": {},
   "outputs": [],
   "source": [
    "plot_results(x, y, y_pred, my_params)"
   ]
  },
  {
   "cell_type": "markdown",
   "metadata": {},
   "source": [
    "### The final test"
   ]
  },
  {
   "cell_type": "code",
   "execution_count": null,
   "metadata": {},
   "outputs": [],
   "source": [
    "assert mse < 50, \"You have to try more\"\n",
    "assert mse < 10, \"You are getting close\"\n",
    "assert mse < 1, \"Almost there\"\n",
    "assert mse < 0.1, \"Just one more step!\"\n",
    "print (\"Awesome, You've made it!!\")"
   ]
  },
  {
   "cell_type": "code",
   "execution_count": null,
   "metadata": {},
   "outputs": [],
   "source": []
  }
 ],
 "metadata": {
  "kernelspec": {
   "display_name": "py3",
   "language": "python",
   "name": "py3"
  },
  "language_info": {
   "codemirror_mode": {
    "name": "ipython",
    "version": 3
   },
   "file_extension": ".py",
   "mimetype": "text/x-python",
   "name": "python",
   "nbconvert_exporter": "python",
   "pygments_lexer": "ipython3",
   "version": "3.7.0"
  }
 },
 "nbformat": 4,
 "nbformat_minor": 4
}
