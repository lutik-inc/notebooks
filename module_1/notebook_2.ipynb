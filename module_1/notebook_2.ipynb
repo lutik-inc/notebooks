{
 "cells": [
  {
   "cell_type": "markdown",
   "metadata": {},
   "source": [
    "## Differential equation for a pendulum"
   ]
  },
  {
   "cell_type": "code",
   "execution_count": null,
   "metadata": {},
   "outputs": [],
   "source": [
    "# Let's start with simple things\n",
    "import numpy as np\n",
    "import matplotlib.pyplot as plt\n",
    "from scipy.integrate import odeint"
   ]
  },
  {
   "cell_type": "markdown",
   "metadata": {},
   "source": [
    "### From the 2-nd order equation to a system of 1-st order equations\n",
    "\n",
    "The differential equation that describes a pendulum evolution is the following\n",
    "\n",
    "$$\\frac{d^{2} \\alpha}{d t^{2}}+\\frac{g}{L} \\sin \\alpha=0$$\n",
    "\n",
    "Here we assume a friction-less case for simplicity. It is the second-order equation that can be transformed into a system of two first-order equations by introducing new variable that corresponds to the angular speed\n",
    "\n",
    "$$\\beta = \\frac{d \\alpha}{dt}$$\n",
    "\n",
    "So we get the following mathematical expression:\n",
    "\n",
    "$$ \\begin{cases} \\frac{d \\alpha}{dt} = \\beta \\\\ \\frac{d \\beta}{dt} = -\\frac{g}{L} \\sin \\alpha\\end{cases}$$\n",
    "\n",
    "Solving this system we get $\\alpha(t)$ and that describes the evolution of the angle over the time. From this dependence we can get the estimate of the diameter of oscillations of a pendulum under given initial conditions."
   ]
  },
  {
   "cell_type": "code",
   "execution_count": null,
   "metadata": {},
   "outputs": [],
   "source": [
    "# The same system of differential equations can be written as a \n",
    "# function of \\alpha, \\beta, time and some parameters that \n",
    "# returns vector of derivatives for \\alpha and \\beta"
   ]
  },
  {
   "cell_type": "code",
   "execution_count": null,
   "metadata": {},
   "outputs": [],
   "source": [
    "def derivatives(X, t, b):\n",
    "    '''\n",
    "    compute derivatives of X wrt time\n",
    "    '''\n",
    "    alpha, beta = X\n",
    "    dxdt = [beta, -b*np.sin(alpha)]\n",
    "    return dxdt"
   ]
  },
  {
   "cell_type": "code",
   "execution_count": null,
   "metadata": {},
   "outputs": [],
   "source": [
    "# Setting parameters, b here corresponds to g/L value\n",
    "b = 5.0"
   ]
  },
  {
   "cell_type": "code",
   "execution_count": null,
   "metadata": {},
   "outputs": [],
   "source": [
    "# And initial conditions\n",
    "x0 = [0.0, 2.0]"
   ]
  },
  {
   "cell_type": "code",
   "execution_count": null,
   "metadata": {},
   "outputs": [],
   "source": [
    "# Setting timespan for the pendulum evolution\n",
    "tspan = np.linspace(0, 10, 101)"
   ]
  },
  {
   "cell_type": "code",
   "execution_count": null,
   "metadata": {},
   "outputs": [],
   "source": [
    "# Solving our ODE system\n",
    "solution = odeint(derivatives, x0, tspan, args=(b,)) # returns an 2-dimensional array with \n",
    "                        # the first index specifying the time\n",
    "                        # and the second index specifying the \n",
    "                        # component of the state (X) vector"
   ]
  },
  {
   "cell_type": "code",
   "execution_count": null,
   "metadata": {},
   "outputs": [],
   "source": [
    "solution[:10, :]"
   ]
  },
  {
   "cell_type": "markdown",
   "metadata": {},
   "source": [
    "### Let's examine the solution now"
   ]
  },
  {
   "cell_type": "code",
   "execution_count": null,
   "metadata": {},
   "outputs": [],
   "source": [
    "def plot_solution_xt(t, solution, b, y0):\n",
    "    plt.figure(figsize=(6,4), dpi=100)\n",
    "    plt.plot(t, solution[:, 0], 'b', label='$\\\\alpha(t)$')\n",
    "    plt.plot(t, solution[:, 1], 'g', label='$\\\\beta(t)$')\n",
    "    plt.title(\"Pendulum evolution, init={}, b={}\".format(y0, b))\n",
    "    plt.legend(loc='best')\n",
    "    plt.xlabel('t')\n",
    "    plt.grid()\n",
    "    plt.show()"
   ]
  },
  {
   "cell_type": "code",
   "execution_count": null,
   "metadata": {},
   "outputs": [],
   "source": [
    "plot_solution_xt(tspan, solution, b, x0)"
   ]
  },
  {
   "cell_type": "code",
   "execution_count": null,
   "metadata": {},
   "outputs": [],
   "source": [
    "def plot_solution_xy(dfunc, solution, args):\n",
    "    xx, yy = np.meshgrid(np.linspace(-4, 4, 20), np.linspace(-4, 4, 20))\n",
    "\n",
    "\n",
    "    U, V = np.zeros(xx.shape), np.zeros(yy.shape)\n",
    "\n",
    "    NI, NJ = xx.shape\n",
    "\n",
    "    # U, V = pend(xx, t, b, c) vectorize sometime\n",
    "    for i in range(NI):\n",
    "        for j in range(NJ):\n",
    "            a = xx[i, j]\n",
    "            b = yy[i, j]\n",
    "            xprime = dfunc([a, b], None, *args)\n",
    "            U[i,j] = xprime[0]\n",
    "            V[i,j] = xprime[1]\n",
    "\n",
    "\n",
    "    N = np.sqrt(U**2 + V**2)\n",
    "    U2, V2 = U/N, V/N \n",
    "    \n",
    "    plt.figure(figsize=(6,4), dpi=100)\n",
    "    plt.quiver(xx, yy, U2, V2, color='lightgray', label='direction field')\n",
    "\n",
    "    plt.plot(solution[:,0], solution[:,1], 'b-', label='path') # path\n",
    "    plt.plot([solution[0,0]], [solution[0,1]], 'o', label='start') # start\n",
    "    plt.plot([solution[-1,0]], [solution[-1,1]], 's', label='end') # end\n",
    "\n",
    "    plt.xlabel(\"$\\\\alpha $\")\n",
    "    plt.ylabel('$\\\\beta $')\n",
    "    plt.legend(loc=\"upper left\")\n",
    "    plt.ylim([-3, 3])\n",
    "    plt.xlim([-3, 3])"
   ]
  },
  {
   "cell_type": "code",
   "execution_count": null,
   "metadata": {},
   "outputs": [],
   "source": [
    "plot_solution_xy(derivatives, solution, (b,))"
   ]
  },
  {
   "cell_type": "markdown",
   "metadata": {},
   "source": [
    "### Question: can you estimate the diameter of oscillations of 1 meter long pendulum that starts from [0, 1.5] (angle, speed) on Earth surface level (normal gravity)?"
   ]
  },
  {
   "cell_type": "markdown",
   "metadata": {},
   "source": [
    "\n",
    "## Bonus. Differential equation of planet motion\n",
    "\n",
    "Planet motion around the sun is defined by Newton's gravity equation:\n",
    "$$ \\vec{F}=-\\frac{G M m}{r^{3}} \\vec{r} $$\n",
    "\n",
    "or for 2D case it would be \n",
    "\n",
    "$$\n",
    "\\begin{array}{l}\n",
    "\\frac{d^{2} x}{d t^{2}}=-\\frac{G M}{r^{3}} x \\\\\n",
    "\\frac{d^{2} y}{d t^{2}}=-\\frac{G M}{r^{3}} y\n",
    "\\end{array}\n",
    "$$\n",
    "\n",
    "Going to the 1st order equitaions by introducing speed: $v_x = \\frac{dx}{dt}, v_y = \\frac{dy}{dt}$, we get\n",
    "$$\n",
    "\\begin{cases}\n",
    "\\frac{dx}{dt} = v_x \\\\\n",
    "\\frac{dy}{dt} = v_y \\\\\n",
    "\\frac{d v_x}{d t}=-\\frac{G M}{r^{3}} x \\\\\n",
    "\\frac{d v_y}{d t}=-\\frac{G M}{r^{3}} y\n",
    "\\end{cases}\n",
    "$$\n",
    "\n",
    "Before going to calculation we also make a note about measurement units. In astronomy we the length is usually measured in so called astronomical units, which equals to the biggest axis of Earth orbit (about $1.49 \\times 10^{11} m$), time is measured in earth years, mass is measured in solar masses."
   ]
  },
  {
   "cell_type": "code",
   "execution_count": null,
   "metadata": {},
   "outputs": [],
   "source": [
    "def derivatives_planet(X, t):\n",
    "    dxdt = np.zeros(4)\n",
    "    dxdt[0] = X[2] # vx\n",
    "    dxdt[1] = X[3] # vy\n",
    "    r = np.sqrt(X[0]**2 + X[1]**2)\n",
    "    dxdt[2] = -(G*M*X[0])/r**3\n",
    "    dxdt[3] = -(G*M*X[1])/r**3\n",
    "    return dxdt"
   ]
  },
  {
   "cell_type": "code",
   "execution_count": null,
   "metadata": {},
   "outputs": [],
   "source": [
    "G = 4 * np.pi**2 # Gravitational constant for astronomical units\n",
    "M = 1.0      # mass of the central mass (in solar masses)\n",
    "\n",
    "x0 = 1        # initial x coordinate in AU \n",
    "vy0 = 6.283   # initial y speed in AU per year"
   ]
  },
  {
   "cell_type": "code",
   "execution_count": null,
   "metadata": {},
   "outputs": [],
   "source": [
    "## Set initial conditions\n",
    "X0_earth = [ x0, 0, 0, vy0]"
   ]
  },
  {
   "cell_type": "code",
   "execution_count": null,
   "metadata": {},
   "outputs": [],
   "source": [
    "tspan = np.linspace(0, 3, 100)  # create time array of 100 points for 3 years\n",
    "\n",
    "## Solve the ODE with odeint\n",
    "solution_earth = odeint(derivatives_planet, X0_earth, tspan) "
   ]
  },
  {
   "cell_type": "code",
   "execution_count": null,
   "metadata": {},
   "outputs": [],
   "source": [
    "def plot_solution_xt(t, X):\n",
    "    plt.figure(figsize=(7,3), dpi=100)\n",
    "    plt.plot(t, X[:,0])\n",
    "    plt.xlabel('t')\n",
    "    plt.ylabel('x')"
   ]
  },
  {
   "cell_type": "code",
   "execution_count": null,
   "metadata": {},
   "outputs": [],
   "source": [
    "plot_solution_xt(tspan, solution_earth)"
   ]
  },
  {
   "cell_type": "code",
   "execution_count": null,
   "metadata": {},
   "outputs": [],
   "source": [
    "def plot_solution_orbit(X, X0, dfunc):\n",
    "    xx, yy = np.meshgrid(np.linspace(-10, 10, 50), np.linspace(-10, 10, 50))\n",
    "    U, V = np.zeros(xx.shape), np.zeros(yy.shape)\n",
    "    NI, NJ = xx.shape\n",
    "\n",
    "    # U, V = pend(xx, t, b, c) vectorize sometime, calculate vector field\n",
    "    for i in range(NI):\n",
    "        for j in range(NJ):\n",
    "            x = xx[i, j]\n",
    "            y = yy[i, j]\n",
    "            xprime = dfunc([x, y, 0, 0], None)\n",
    "            U[i,j] = xprime[2]\n",
    "            V[i,j] = xprime[3]\n",
    "    \n",
    "    N = np.sqrt(U**2 + V**2)/4\n",
    "    U2, V2 = U/N, V/N \n",
    "    \n",
    "    # Plot the orbit\n",
    "    plt.figure(figsize=(7,4), dpi=100)\n",
    "    plt.quiver(xx, yy, U2, V2, color='lightgray', label='vector field (for zero speed)')\n",
    "\n",
    "    plt.title(r'Using odeint with $x$ = %g, $v_y$ = %g' % (X0[0], X0[3]))\n",
    "    plt.plot(X[:, 0], X[:, 1], label=\"Planet orbit\")\n",
    "    plt.xlim(np.min(X[:, 0])*1.9, np.max(X[:, 0])*1.5)\n",
    "    plt.ylim(np.min(X[:, 1])*1.9, np.max(X[:, 1])*1.5)\n",
    "    plt.legend(loc='upper right')\n",
    "    plt.plot(0, 0, 'ko')"
   ]
  },
  {
   "cell_type": "code",
   "execution_count": null,
   "metadata": {},
   "outputs": [],
   "source": [
    "plot_solution_orbit(solution_earth, X0_earth, derivatives_planet)"
   ]
  },
  {
   "cell_type": "markdown",
   "metadata": {},
   "source": [
    "### Question: calculate the eccentricity of Earth orbit\n",
    "\n",
    "For eliptical shape it is described by the formula:\n",
    "$$ e=\\sqrt{1-\\frac{b^{2}}{a^{2}}} $$\n",
    "where $a$ and $b$ are the large and small elliptical radii correspondingly."
   ]
  },
  {
   "cell_type": "code",
   "execution_count": null,
   "metadata": {},
   "outputs": [],
   "source": [
    "# TODO\n",
    "# e = np.sqrt(1 - calculate_b**2/calcualte_a**2) \n",
    "# print(\"Eccintricity: {}\".format(e))"
   ]
  },
  {
   "attachments": {},
   "cell_type": "markdown",
   "metadata": {},
   "source": [
    "## Towards the outer space\n",
    "Ceres is a solar system planet discovered in 1801 by Giuseppe Piazzi, Palermo observatory. It is the central planetoid of the asteroid belt between Mars and Jupyter. According to NASA studies, there is plenty of ice and even a tenous water atmosphere [wiki](https://en.wikipedia.org/wiki/Ceres_(dwarf_planet)). Carl Friedrich Gauss was 24 when he managed to estimate the parameters of Ceres orbit by just three observations, which made him famous across Europe. The radius is 2.765 of AU. The speed is 3.778 AU per year.\n",
    "If you are a fan of the Expanse TV Series, you'd also appreciate this task, since Ceres is the central site of the Belters population (more details).\n",
    "\n",
    "Fans of the Expanse TV Series would appreciate this task since Ceres is the central site of the Belters population of TV Series universe ([more details](https://expanse.fandom.com/wiki/Ceres)).\n",
    "<img src=\"https://vignette.wikia.nocookie.net/expanse/images/7/70/Ceres-003.png/revision/latest?cb=20170404121640\" style=\"width: 640px;\"> \n",
    "Picture is taken from https://expanse.fandom.com/wiki/Ceres.\n",
    "\n",
    "The goal of this task is to estimate the Ceres orbital eccentricity."
   ]
  },
  {
   "cell_type": "code",
   "execution_count": null,
   "metadata": {},
   "outputs": [],
   "source": [
    "x0 = 3        # TODO set initial x coordinate in AU, Ceres orbit bigger radius\n",
    "vy0 = 4      # TODO set initial y speed in AU per year, Ceres orbital speed"
   ]
  },
  {
   "cell_type": "code",
   "execution_count": null,
   "metadata": {},
   "outputs": [],
   "source": [
    "## Set initial conditions and define needed array.\n",
    "X0_ceres = [ x0, 0, 0, vy0]\n",
    "tspan_ceres = np.linspace(0, 20, 100)  "
   ]
  },
  {
   "cell_type": "code",
   "execution_count": null,
   "metadata": {},
   "outputs": [],
   "source": [
    "solution_ceres = odeint(derivatives_planet, X0_ceres, tspan_ceres) # returns an 2-dimensional array with \n"
   ]
  },
  {
   "cell_type": "code",
   "execution_count": null,
   "metadata": {},
   "outputs": [],
   "source": [
    "plot_solution_xt(tspan_ceres, solution_ceres)"
   ]
  },
  {
   "cell_type": "code",
   "execution_count": null,
   "metadata": {},
   "outputs": [],
   "source": [
    "plot_solution_orbit(solution_ceres, X0_ceres, derivatives_planet)"
   ]
  },
  {
   "cell_type": "markdown",
   "metadata": {},
   "source": [
    "### What is the eccentricity of Ceres orbit?"
   ]
  },
  {
   "cell_type": "code",
   "execution_count": null,
   "metadata": {},
   "outputs": [],
   "source": [
    "# TODO\n",
    "# e = np.sqrt(1 - calculate_b**2/calcualte_a**2) \n",
    "# print(\"Eccintricity: {}\".format(e))"
   ]
  },
  {
   "cell_type": "code",
   "execution_count": null,
   "metadata": {},
   "outputs": [],
   "source": []
  }
 ],
 "metadata": {
  "kernelspec": {
   "display_name": "py3",
   "language": "python",
   "name": "py3"
  },
  "language_info": {
   "codemirror_mode": {
    "name": "ipython",
    "version": 3
   },
   "file_extension": ".py",
   "mimetype": "text/x-python",
   "name": "python",
   "nbconvert_exporter": "python",
   "pygments_lexer": "ipython3",
   "version": "3.7.0"
  }
 },
 "nbformat": 4,
 "nbformat_minor": 4
}
