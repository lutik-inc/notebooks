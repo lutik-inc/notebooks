{
 "cells": [
  {
   "cell_type": "markdown",
   "metadata": {},
   "source": [
    "# 3-body problem\n",
    "In this notebook, we consider a classical 300-years old mathematical challenge. Isaac Newton has turned his attention to it after stating the gravity law for 2-body case:\n",
    "\n",
    "$$ \\vec{F} = G \\frac{M_1 M_2}{R^3}\\vec{r} $$\n",
    "\n",
    "In 2-body case we have 3 degrees of freedom (independent variables) for each body, adding up to 6 in total, and 10 invariants of motion (energy, 3 momentum invariants, 3 angular momentum invariants, and 3 Lagrange-Rung-Lenz vectors), of which only 7 are in involution, so we can easily deduce the closed-form solution as the law written above. Things get less determined as we add the 3rd body. The number of degrees of freedom increases to 9; hence no closed-form solution can be derived. However, we can write down laws of motion in the form of ODE, get the evolution of $x(t)$, and compute the future state of the system. Intuitively 3 bodies might give a much richer repertoire of behavior, i.e., as 2 bodies get too close, they most likely collide without the 3rd one. In contrast, the 3rd may prevent the collision and produce quite fascinating dance patterns. \n",
    "\n",
    "For simplicity's sake, we'll consider the 2D case of 3 body system - such a system has enough degrees of freedom to remain \"unsolvable\" in terms of closed-form, but can be analyzed and solved using numerical calculations. Interestingly enough, this system of equations for different initial conditions can produce a variety of different kinds of motion: periodic, quasi-periodic, and chaotic. The former kind happens as the system gets to precisely the same initial conditions after a specific time interval referred to as _period_. The chaotic sort of motion is characterized by high dependency on the initial conditions, i.e., the small change in the conditions may lead to drastically different states in the future. Such unpredictability may happen due to close contact of two bodies when forces might get too large, and small differences in motion may lead to different trajectories. The study of such chaotic behaviors gave rise to a whole new branch of science called [_chaos theory_](https://en.wikipedia.org/wiki/Chaos_theory). \n",
    "\n",
    "Let's take a look at the following cases:\n",
    "- Sun-Earth-Jupiter (periodic)\n",
    "- Periodic orbits (periodic)\n",
    "- Kepler-16 binary star system (periodic)\n",
    "- Chaotic system (chaotic)\n",
    "\n",
    "Your goal would be to understand what system stability is and how do chaotic regimes differ from stable ones. "
   ]
  },
  {
   "cell_type": "code",
   "execution_count": null,
   "metadata": {},
   "outputs": [],
   "source": [
    "import numpy as np\n",
    "import matplotlib.pyplot as plt\n",
    "import seaborn as sn\n",
    "from scipy.integrate import odeint\n",
    "\n",
    "%matplotlib inline"
   ]
  },
  {
   "cell_type": "markdown",
   "metadata": {},
   "source": [
    "As with the previous notebook, here we rely on the following motion equations:\n",
    "\n",
    "$$ \\vec{F_1}=\\frac{G m_1 m_2}{r_{12}^{3}} \\vec{r_{12}} + \\frac{G m_1 m_3}{r_{13}^{3}} \\vec{r_{13}}$$\n",
    "\n",
    "where $\\vec{r_{ij}}$ is a vector connecting i-th and j-th bodies. So in the differential form we get:\n",
    "\n",
    "\\begin{aligned}\n",
    "\\frac{d^{2} x_1}{d t^{2}}= \\frac{G m_2 \\left(x_2-x_1\\right)}{r_{12}^{3}}  + \\frac{G m_3 \\left(x_3-x_1\\right)}{r_{13}^{3}}  \\\\\n",
    "\\frac{d^{2} y_1}{d t^{2}}= \\frac{G m_2 \\left(y_2-y_1\\right)}{r_{12}^{3}}  + \\frac{G m_3 \\left(y_3-y_1\\right)}{r_{13}^{3}}  \\\\\n",
    "\\end{aligned}\n",
    "\n",
    "and the other four equations can be obtained by cyclic permutations 1 → 2 → 3 → 1\n",
    "\n",
    "As in the previous notebook we create a first-order equation system that can be written in Python in the following way:"
   ]
  },
  {
   "cell_type": "code",
   "execution_count": null,
   "metadata": {},
   "outputs": [],
   "source": [
    "def derivative(X, t, m1, m2, m3, G):\n",
    "    dXdt = np.zeros_like(X)\n",
    "    dXdt[:6] = X[6:]\n",
    "\n",
    "    r12, r13, r23 = X[2:4] - X[0:2], X[4:6] - X[0:2], X[4:6] - X[2:4]\n",
    "    frac12 = ((r12**2).sum())**-1.5\n",
    "    frac13 = ((r13**2).sum())**-1.5\n",
    "    frac23 = ((r23**2).sum())**-1.5\n",
    "\n",
    "    dXdt[6:8]   =  G*(r12*frac12*m2 + r13*frac13*m3)\n",
    "    dXdt[8:10]  =  G*(r23*frac23*m3 - r12*frac12*m1)\n",
    "    dXdt[10:12] = -G*(r13*frac13*m1 + r23*frac23*m2)\n",
    "\n",
    "    return dXdt"
   ]
  },
  {
   "cell_type": "code",
   "execution_count": null,
   "metadata": {},
   "outputs": [],
   "source": [
    "# Let's define different G constants that we'll use for space and mathematical system simulation.\n",
    "G_phys = 4 * np.pi**2  # For astronomical units\n",
    "G_math = 1\n",
    "# Some aux ODE solver params needed for tough (close encounter) cases \n",
    "tol  = 1e-9 # determine the error threshold controlled by the solver\n",
    "hmax = 1e-4 # max size of the step taken by solver"
   ]
  },
  {
   "cell_type": "markdown",
   "metadata": {},
   "source": [
    "### Sun - Earth - Jupiter system"
   ]
  },
  {
   "cell_type": "code",
   "execution_count": null,
   "metadata": {},
   "outputs": [],
   "source": [
    "# Let's define initial state: masses, coordinates and velocities in astronomical units\n",
    "mSun_si = 1.9885e30\n",
    "mEarth_si = 5.972e24\n",
    "mJup_si = 1.898e27\n",
    "\n",
    "m1, m2, m3 = mSun_si/mSun_si, mEarth_si/mSun_si, mJup_si/mSun_si\n",
    "\n",
    "x0 = [0.0, 0.0] + [1.0, 0.0] + [-5.2, 0.0]\n",
    "v0 = [0.0, 0.0] + [0.0, 6.283] + [0.0, -2.89] \n",
    "X0 = np.array(x0 + v0)\n",
    "\n",
    "# Timespan for the simulation\n",
    "t = np.linspace(0, 60, 30001)"
   ]
  },
  {
   "cell_type": "code",
   "execution_count": null,
   "metadata": {},
   "outputs": [],
   "source": [
    "%%time\n",
    "# Solving the ODE system given the conditions\n",
    "solution_sej = odeint(derivative, X0, t, args=(m1, m2, m3, G_phys))"
   ]
  },
  {
   "cell_type": "code",
   "execution_count": null,
   "metadata": {},
   "outputs": [],
   "source": [
    "# Let's define some plotting routines\n",
    "def get_color(i):\n",
    "    prop_cycle = plt.rcParams['axes.prop_cycle']\n",
    "    colors = prop_cycle.by_key()['color']\n",
    "    return colors[i]\n",
    "\n",
    "def plot_solution(solution, t, xlim=(-6, 6), ylim=(-4, 4), labels=['Body-1', 'Body-2', 'Body-3']):\n",
    "    xy3, xy4, xy5 = solution.T[:6].reshape(3,2,-1)\n",
    "    paths         = [xy3, xy4, xy5]\n",
    "    plt.figure(figsize=(8,10), dpi=100)\n",
    "    plt.subplot(2, 1, 1)\n",
    "    for i, (x, y) in enumerate(paths):\n",
    "        plt.plot(x, y, alpha=0.4)\n",
    "    for i, (x, y) in enumerate(paths):\n",
    "        plt.plot(x[:1], y[:1], 'o', color=get_color(i), label=labels[i])\n",
    "    plt.xlim(*xlim)\n",
    "    plt.ylim(*ylim)\n",
    "    plt.xlabel('x')\n",
    "    plt.ylabel('y')\n",
    "    plt.title(\"3-body XY phase space\")\n",
    "    plt.legend()\n",
    "    \n",
    "    plt.subplot(4,1,3)\n",
    "    for x, y in paths:\n",
    "        plt.plot(t, x)\n",
    "    plt.ylim(xlim)\n",
    "    plt.ylabel('x')\n",
    "    plt.subplot(4,1,4)\n",
    "    for x, y in paths:\n",
    "        plt.plot(t, y)\n",
    "    plt.ylim(ylim)\n",
    "    plt.ylabel('y')\n",
    "    plt.xlabel('time')\n",
    "\n",
    "    plt.show()"
   ]
  },
  {
   "cell_type": "code",
   "execution_count": null,
   "metadata": {},
   "outputs": [],
   "source": [
    "plot_solution(solution_sej, t, xlim=(-8, 8), ylim=(-8, 8), labels=['Sun', 'Earth', 'Jupiter'])"
   ]
  },
  {
   "cell_type": "markdown",
   "metadata": {},
   "source": [
    "This configuration is pretty stable, i.e., if you modify initial conditions a bit (by 0.1%, or displacing the Earth by several diameters), after 60 years of simulated time, you still get the same planets circling the Sun."
   ]
  },
  {
   "cell_type": "code",
   "execution_count": null,
   "metadata": {},
   "outputs": [],
   "source": [
    "# TODO: update X0 by small percentage and check the difference\n",
    "X0_mod = X0 + ..."
   ]
  },
  {
   "cell_type": "code",
   "execution_count": null,
   "metadata": {},
   "outputs": [],
   "source": [
    "solution_sej2 = odeint(derivative, X0_mod, t, args=(m1, m2, m3, G_phys))\n",
    "plot_solution(solution_sej2, t, xlim=(-8, 8), ylim=(-8, 8), labels=['Sun', 'Earth', 'Jupiter'])"
   ]
  },
  {
   "attachments": {
    "image.png": {
     "image/png": "[encoded data removed]"
    }
   },
   "cell_type": "markdown",
   "metadata": {},
   "source": [
    "## Periodic solutions\n",
    "\n",
    "### Euler solution\n",
    "There are several families of periodic solutions. For example, Euler has discovered a configuration of 3 bodies that are always colinear and are rotating around the common mass center:\n",
    "![image.png](attachment:image.png)\n",
    "\n",
    "On the left is a trajectory of equal masses, while for the right, the masses are different. Euler's solution was not stable. \n",
    "\n"
   ]
  },
  {
   "attachments": {
    "image.png": {
     "image/png": "[encoded data removed]"
    }
   },
   "cell_type": "markdown",
   "metadata": {},
   "source": [
    "### Lagrange solution\n",
    "\n",
    "Lagrange has suggested a configuration, in which 3 bodies occupy vertices of an equilateral triangle. Unlike Euler solution it was a bit more stable.\n",
    "\n",
    "![image.png](attachment:image.png)\n",
    "\n",
    "### Figure-8 solution\n",
    "Long after Euler and Lagrange’s solutions, another particular solution was found: the figure-eight solution. First discovered numerically by Cristopher Moore in 1993, its existence was rigorously proved in 2001 by Alain Chenciner and Richard Montgomery [cite](https://arxiv.org/pdf/math/0011268.pdf). Unlike the other particular solutions, it only occurs in the case of three equal masses, but remarkably is stable. In the figure eight solution, all three bodies trace the same figure-eight shaped orbit, with a double point at the center also being the center of mass.\n",
    "\n",
    "\n"
   ]
  },
  {
   "cell_type": "code",
   "execution_count": null,
   "metadata": {},
   "outputs": [],
   "source": [
    "# 8-cycle\n",
    "m1, m2, m3 = 1.0, 1.0, 1.0\n",
    "\n",
    "\n",
    "x0 = [-0.97000436, 0.24308753] + [0.97000436, -0.24308753] + [0.0, 0.0]\n",
    "v0 = [ 0.93240737/2, 0.86473146/2] + [ 0.93240737/2, 0.86473146/2] + [-0.93240737, -0.86473146] \n",
    "X0 = np.array(x0 + v0)\n",
    "\n",
    "t = np.linspace(0, 10,  6001)"
   ]
  },
  {
   "cell_type": "code",
   "execution_count": null,
   "metadata": {},
   "outputs": [],
   "source": [
    "%%time\n",
    "solution_8 = odeint(derivative, X0, t, args=(m3, m4, m5, G_math))"
   ]
  },
  {
   "cell_type": "code",
   "execution_count": null,
   "metadata": {
    "scrolled": false
   },
   "outputs": [],
   "source": [
    "plot_solution(solution_8, t, xlim=(-2, 2), ylim=(-1, 1))"
   ]
  },
  {
   "cell_type": "markdown",
   "metadata": {},
   "source": [
    "## Further into the space\n",
    "Another natural science example of a periodic orbit is represented by Kepler-16 system discovered in 2011 by [Kepler telecope](https://en.wikipedia.org/wiki/Kepler_space_telescope)). The system consists of a binary star (stars A and B) and a planet (b) rotating around the stars:\n",
    "http://exoplanet.eu/catalog/kepler-16_%28ab%29_b/\n",
    "\n",
    "Kepler-16b has been dubbed as Tatooine (from Star Wars universe), due to the double sunset\n",
    "<img src=\"https://i.imgur.com/HYA25rgl.jpg\"> \n",
    "Image taken from https://www.cosmosup.com/tatooine-like-planets-with-twin-sunsets-may-be-common-in-universe/"
   ]
  },
  {
   "cell_type": "code",
   "execution_count": null,
   "metadata": {},
   "outputs": [],
   "source": [
    "# def speed_si2au(v): return 6.283/29.8*v\n",
    "# def speed_au2si(v): return 29.8/6.283*v\n",
    "\n",
    "m1, m2, m3 = 0.654, 0.1959, 0.3333 * mJup_si/mSun_si\n",
    "\n",
    "x0 = [(m2 * 0.224)/(m1 + m2), 0.0] +   \\\n",
    "     [-(m1 * 0.224)/(m1 + m2), 0.0] + \\\n",
    "     [0.7048, 0.0]\n",
    "v0 = [0.0, 2*np.pi*x0[0]/(41/365.25)] + \\\n",
    "     [0.0, 2*np.pi*x0[2]/(41/365.25)] + \\\n",
    "     [0.0, 2*np.pi*x0[4]/(228/365.25)]\n",
    "X0 = np.array(x0 + v0)\n",
    "\n",
    "t = np.linspace(0, 10,  10001)"
   ]
  },
  {
   "cell_type": "code",
   "execution_count": null,
   "metadata": {},
   "outputs": [],
   "source": [
    "%%time \n",
    "solution_kepler16 = odeint(derivative, X0, t, rtol=tol, atol=tol, args=(m1, m2, m3, G_phys))"
   ]
  },
  {
   "cell_type": "code",
   "execution_count": null,
   "metadata": {},
   "outputs": [],
   "source": [
    "plot_solution(solution_kepler16, t, xlim=(-1,1), ylim=(-1,1), labels=['Kepler-16A', 'Kepler-16B', 'Kepler-16b'])"
   ]
  },
  {
   "cell_type": "markdown",
   "metadata": {},
   "source": [
    "Many more periodic solutions has been discovered since then [[1]](http://www.sciencemag.org/news/2013/03/physicists-discover-whopping-13-new-solutions-three-body-problem)[[2]](http://www.scl.rs/theses/msc_ahudomal.pdf)[[3]](https://doi.org/10.1093%2Fpasj%2Fpsy057). Studies of those configurations are interesting not just from pure mathematical point of view. Since the discovery of gravitational waves, we can observe gravitational patterns emitted by distant space objects. However, the collapsing black-stars are rather rare events. On the contrary, periodic configurations of binary stars and planets are much more frequent, and each configuration is associated with specific gravitational wave pattern, so the study of the periodic configurations may give a hint about distant space star formation. "
   ]
  },
  {
   "cell_type": "code",
   "execution_count": null,
   "metadata": {},
   "outputs": [],
   "source": [
    "# One more plotting routine\n",
    "def plot_joint(solution, body_number, var='v', kind='scatter'):\n",
    "    \"\"\"\n",
    "    plots a joint distributions of coordinates\n",
    "    solution - evolution of a system\n",
    "    body_number - 0..2 \n",
    "    var - either 'x' or 'v'\n",
    "    kind - { \"scatter\" | \"reg\" | \"resid\" | \"kde\" | \"hex\" }\n",
    "    \"\"\"\n",
    "    xy1, xy2, xy3 = solution.T[:6].reshape(3,2,-1)\n",
    "    v1, v2, v3    = solution.T[6:12].reshape(3,2,-1)\n",
    "    paths         = [xy1, xy2, xy3]\n",
    "    speed         = [v1, v2, v3]\n",
    "    plt.figure(figsize=(4,3), dpi=100)\n",
    "    title = \"Joint distribution of {} variable for body {}\".format(var, body_number+1)\n",
    "    if var == 'v':\n",
    "        data = speed[body_number]\n",
    "    else:\n",
    "        data = paths[body_number]        \n",
    "    plot = sn.jointplot(speed[body_number][0], speed[body_number][1], color=get_color(body_number), kind=kind)\n",
    "    plot.ax_marg_x.set_title(title)\n",
    "    return None\n"
   ]
  },
  {
   "cell_type": "markdown",
   "metadata": {},
   "source": [
    "Take a look at one more data representation. In the center, you see the plot of the so-called _joint distribution_ of two variables ($x_3, y_3$). You can change the way it plots by changing `kind` argument of the function:\n",
    "- if `kind` equals to `scatter`, it plots every possible point as a dot, pretty much like at all figures above\n",
    "- if it equals to `hex`, it aggregates all scattered plots by hexagonal tiles of the corresponding intensity\n",
    "- if it equals to `kde`, it approximates the point density by a smooth curve\n",
    "\n",
    "On the top and on the right from the central figure, you can see so-called _marginal distributions_ that intuitively look like projections of the joint distribution to the corresponding axis."
   ]
  },
  {
   "cell_type": "code",
   "execution_count": null,
   "metadata": {},
   "outputs": [],
   "source": [
    "plot_joint(solution_kepler16, 2, var='x', kind='scatter');"
   ]
  },
  {
   "cell_type": "code",
   "execution_count": null,
   "metadata": {},
   "outputs": [],
   "source": [
    "# TODO redraw the joint distribution with `kind='kde'` and `kind='hex'` arguments and compare with the figure above"
   ]
  },
  {
   "cell_type": "code",
   "execution_count": null,
   "metadata": {},
   "outputs": [],
   "source": [
    "def plot_histograms(solution):\n",
    "    xy1, xy2, xy3 = solution.T[:6].reshape(3,2,-1)\n",
    "    v1, v2, v3    = solution.T[6:12].reshape(3,2,-1)\n",
    "    paths         = [xy1, xy2, xy3]\n",
    "    speed         = [v1, v2, v3]\n",
    "    plt.figure(figsize=(10,6), dpi=100)\n",
    "    bins=15\n",
    "    \n",
    "    for i, (x, y) in enumerate(paths):\n",
    "        c = get_color(i)\n",
    "        plt.subplot(3, 2, 2*i + 1, title=\"Body-{}\".format(i + 1))\n",
    "        plt.hist(x, bins=bins, label='x', alpha=0.3, color=c)\n",
    "        plt.hist(y, bins=bins, label='y', alpha=0.9, histtype='step', color=c)\n",
    "        plt.legend()\n",
    "     \n",
    "    for i, (vx, vy) in enumerate(speed):\n",
    "        c = get_color(i)\n",
    "        plt.subplot(3, 2, 2*i + 2)\n",
    "        plt.hist(vx, bins=bins, label='vx', alpha=0.3, color=c)\n",
    "        plt.hist(vy, bins=bins, label='vy', alpha=0.9, histtype='step', color=c)\n",
    "        plt.legend()\n",
    "        \n",
    "    plt.subplots_adjust(bottom=0.1, right=0.8, top=0.9, hspace=0.5)\n",
    "    plt.show()"
   ]
  },
  {
   "cell_type": "markdown",
   "metadata": {},
   "source": [
    "Below, you can see all the marginal distributions corresponding to each of the variables of our system. So there are 6 different plots and each plot represent two distributions by histograms, showing density of our data in the corresponding interval."
   ]
  },
  {
   "cell_type": "code",
   "execution_count": null,
   "metadata": {
    "scrolled": false
   },
   "outputs": [],
   "source": [
    "plot_histograms(solution_kepler16)"
   ]
  },
  {
   "cell_type": "markdown",
   "metadata": {},
   "source": [
    "## Chaotic regime"
   ]
  },
  {
   "cell_type": "code",
   "execution_count": null,
   "metadata": {},
   "outputs": [],
   "source": [
    "# from polar to cartesian transform\n",
    "#def p2c(r, theta):\n",
    "#    return [r*np.cos(theta), r*np.sin(theta)]\n",
    "\n",
    "m1, m2, m3 = 1, 1, 1\n",
    "\n",
    "x0 = [1.0, 0.0] + [-0.4999999999999998, 0.866025] + [-0.5000000000000004, -0.8660254037844384]\n",
    "v0 = [3.367778697655222e-17, 0.55] + \\\n",
    "    [-0.4763139720814414, -0.2749999999999999] + \\\n",
    "    [0.47631397208144116, -0.27500000000000024]\n",
    "X0 = np.array(x0 + v0)\n",
    "\n",
    "t = np.linspace(0, 60,  60001)"
   ]
  },
  {
   "cell_type": "code",
   "execution_count": null,
   "metadata": {},
   "outputs": [],
   "source": [
    "%%time \n",
    "solution_chaos, _ = odeint(derivative, X0, t, args=(m1, m2, m3, G_math), \n",
    "                           rtol=tol, atol=tol, hmax=hmax, full_output=True)\n",
    "plot_solution(solution_chaos, t)"
   ]
  },
  {
   "cell_type": "code",
   "execution_count": null,
   "metadata": {},
   "outputs": [],
   "source": [
    "plot_histograms(solution_chaos)"
   ]
  },
  {
   "cell_type": "markdown",
   "metadata": {},
   "source": [
    "## Task\n",
    "    Q: What is the biggest change you can make to the initial value of $x_1$ of \"Chaotic\" configuration so the behaviour of the system will be indistinguishable by the naked eye from the original configuration evolution during the first 20 time ticks?"
   ]
  },
  {
   "cell_type": "code",
   "execution_count": null,
   "metadata": {},
   "outputs": [],
   "source": [
    "# TODO: experiment with the perturbation value that would affect the result of the simulation\n",
    "perturbation = 1e-2\n",
    "X0_mod = X0\n",
    "X0_mod[0] = X0[0] * (1 + perturbation)\n",
    "X0_mod"
   ]
  },
  {
   "cell_type": "code",
   "execution_count": null,
   "metadata": {},
   "outputs": [],
   "source": [
    "%%time \n",
    "solution_chaos2, _ = odeint(derivative, X0_mod, t, args=(m1, m2, m3, G_math), rtol=tol, atol=tol, hmax=hmax,  full_output=True)\n",
    "plot_solution(solution_chaos2, t)"
   ]
  },
  {
   "cell_type": "code",
   "execution_count": null,
   "metadata": {},
   "outputs": [],
   "source": [
    "plot_histograms(solution_chaos2)"
   ]
  },
  {
   "cell_type": "markdown",
   "metadata": {},
   "source": [
    "We hope you've enjoyed this chaotic 3-body detour. It is indeed a marvelous problem, given its apparent simplicity and richness of repertoire. [Wikipedia](https://en.wikipedia.org/wiki/Three-body_problem) is always a good source of inspiration. Also, before concluding, it worths mentioning the [paper](https://arxiv.org/abs/1910.07291) by Breen P. et al. that improved accuracy and speed of ODE solving engine by training a neural net to find a good-enough solution with lightning speed."
   ]
  },
  {
   "cell_type": "code",
   "execution_count": null,
   "metadata": {},
   "outputs": [],
   "source": []
  }
 ],
 "metadata": {
  "kernelspec": {
   "display_name": "py3",
   "language": "python",
   "name": "py3"
  },
  "language_info": {
   "codemirror_mode": {
    "name": "ipython",
    "version": 3
   },
   "file_extension": ".py",
   "mimetype": "text/x-python",
   "name": "python",
   "nbconvert_exporter": "python",
   "pygments_lexer": "ipython3",
   "version": "3.7.0"
  }
 },
 "nbformat": 4,
 "nbformat_minor": 4
}
